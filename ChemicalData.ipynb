{
  "nbformat": 4,
  "nbformat_minor": 0,
  "metadata": {
    "colab": {
      "provenance": [],
      "authorship_tag": "ABX9TyOregVtDQsUJU5LVCUIr222",
      "include_colab_link": true
    },
    "kernelspec": {
      "name": "python3",
      "display_name": "Python 3"
    },
    "language_info": {
      "name": "python"
    }
  },
  "cells": [
    {
      "cell_type": "markdown",
      "metadata": {
        "id": "view-in-github",
        "colab_type": "text"
      },
      "source": [
        "<a href=\"https://colab.research.google.com/github/architvasan/MichiganTutorialMolecularData/blob/main/ChemicalData.ipynb\" target=\"_parent\"><img src=\"https://colab.research.google.com/assets/colab-badge.svg\" alt=\"Open In Colab\"/></a>"
      ]
    },
    {
      "cell_type": "markdown",
      "source": [
        "# Introduction to chemical data"
      ],
      "metadata": {
        "id": "yaDL8x4gNdbc"
      }
    },
    {
      "cell_type": "markdown",
      "source": [
        "## Background information\n",
        "* All molecules are built of various combinations of atoms found in the periodic table!\n",
        "* Certain rules dictate the combination of elements to form these molecules according to their position within the periodic table.\n",
        "\n",
        "![PT](https://github.com/architvasan/MichiganTutorialMolecularData/blob/main/images/Colour_18-col_PT_with_labels.png?raw=1)\n"
      ],
      "metadata": {
        "id": "_7w0GZ36OWPV"
      }
    },
    {
      "cell_type": "markdown",
      "source": [
        "## Small molecules\n",
        "* Many small molecules relevant to living systems are carbon containing\n",
        "* Carbon is singled out because it has a chemical diversity unrivaled by any other chemical element.\n",
        "* Its diversity is based on the following:\n",
        "  * Carbon atoms bond reasonably strongly with other carbon atoms.\n",
        "  * Carbon atoms bond reasonably strongly with atoms of other elements.\n",
        "  * Carbon atoms are the building block of the vast majority of molecules for life!\n",
        "* In general, chemistry of life is dominated by the following elements:\n",
        "  * Carbon\n",
        "  * Nitrogen\n",
        "  * Oxygen\n",
        "  * Phosphorus\n",
        "  * Sulfur\n",
        "  * Hydrogen\n",
        "* Organic compounds are represented in 2D by the following diagrams. Since hydrogen and carbon are so ubiquitous, they are not listed in these diagrams.\n",
        "\n",
        "![ochem](https://github.com/architvasan/MichiganTutorialMolecularData/blob/main/images/ochem_ex.gif?raw=1)\n",
        "\n",
        "* During this talk, we will focus on these carbon-containing \"organic compounds\". There is a vast diversity of compounds that exist outside of this umbrella given the name \"inorganic compounds\"."
      ],
      "metadata": {
        "id": "13Bsjm4PP4lB"
      }
    },
    {
      "cell_type": "markdown",
      "source": [
        "#### Inorganic small molecules\n",
        "\n",
        "\n",
        "#### Polymers\n",
        "\n",
        "Polymers are large molecules consisting of multiple monomers stitched together with molecular bonds. Examples of these include nucleic acids, proteins, lipids, and carbohydrates. Alex Brace discussed nucleic acids and proteins specifically during his talk.\n",
        "\n",
        "![protein](https://github.com/architvasan/MichiganTutorialMolecularData/blob/main/images/protein.png?raw=1)\n",
        "![nucleidacid](https://github.com/architvasan/MichiganTutorialMolecularData/blob/main/images/nucleicacid.png?raw=1)\n",
        "![lipid](https://github.com/architvasan/MichiganTutorialMolecularData/blob/main/images/Lipid.png?raw=1)\n",
        "![carbohydrates](https://github.com/architvasan/MichiganTutorialMolecularData/blob/main/images/carbs.jpg?raw=1)\n"
      ],
      "metadata": {
        "id": "d4oIoSd-Qgbg"
      }
    },
    {
      "cell_type": "markdown",
      "source": [
        "## Types of molecular data"
      ],
      "metadata": {
        "id": "gxCUrKB3ThXj"
      }
    },
    {
      "cell_type": "markdown",
      "source": [
        "### 2-dimensional data\n",
        "\n",
        "Arguably, the most common molecular data type seen are 2-dimensional representations of atoms connected to one another with atomic bonds. There are advantages and disadvantages with this datatype though:\n",
        "\n",
        "These 2D-graphs can be represented compactly using adjacency matrices and node lists:\n",
        "\n",
        "![adjmat](https://github.com/architvasan/MichiganTutorialMolecularData/blob/main/images/adjac_matrix.jpg?raw=1)\n",
        "**Advantages**\n",
        "\n",
        "* Simplicity and Clarity\n",
        "* Ease of Visualization\n",
        "* Compatibility with Databases\n",
        "* Integration with Analytical Data\n",
        "\n",
        "**Disadvantages**\n",
        "* Lack of Spatial Information\n",
        "* Stereochemistry\n",
        "* Conformational Flexibility\n",
        "* Computational Modeling Limitations\n",
        "\n",
        "These datatypes are typically incorporated into deep learning models using graph models such as GNNs and Graph Transformers.\n"
      ],
      "metadata": {
        "id": "pF0UK9pWU9z7"
      }
    },
    {
      "cell_type": "code",
      "source": [
        "!pip install rdkit\n",
        "!pip install networkx\n",
        "!pip install matplotlib"
      ],
      "metadata": {
        "id": "RgGF4hvYDJXz",
        "outputId": "5aaec254-6b41-49f5-b138-e1765ddbc1dc",
        "colab": {
          "base_uri": "https://localhost:8080/"
        }
      },
      "execution_count": null,
      "outputs": [
        {
          "output_type": "stream",
          "name": "stdout",
          "text": [
            "Requirement already satisfied: rdkit in /usr/local/lib/python3.10/dist-packages (2024.3.3)\n",
            "Requirement already satisfied: numpy<2.0 in /usr/local/lib/python3.10/dist-packages (from rdkit) (1.25.2)\n",
            "Requirement already satisfied: Pillow in /usr/local/lib/python3.10/dist-packages (from rdkit) (9.4.0)\n",
            "Requirement already satisfied: networkx in /usr/local/lib/python3.10/dist-packages (3.3)\n",
            "Requirement already satisfied: matplotlib in /usr/local/lib/python3.10/dist-packages (3.7.1)\n",
            "Requirement already satisfied: contourpy>=1.0.1 in /usr/local/lib/python3.10/dist-packages (from matplotlib) (1.2.1)\n",
            "Requirement already satisfied: cycler>=0.10 in /usr/local/lib/python3.10/dist-packages (from matplotlib) (0.12.1)\n",
            "Requirement already satisfied: fonttools>=4.22.0 in /usr/local/lib/python3.10/dist-packages (from matplotlib) (4.53.0)\n",
            "Requirement already satisfied: kiwisolver>=1.0.1 in /usr/local/lib/python3.10/dist-packages (from matplotlib) (1.4.5)\n",
            "Requirement already satisfied: numpy>=1.20 in /usr/local/lib/python3.10/dist-packages (from matplotlib) (1.25.2)\n",
            "Requirement already satisfied: packaging>=20.0 in /usr/local/lib/python3.10/dist-packages (from matplotlib) (24.1)\n",
            "Requirement already satisfied: pillow>=6.2.0 in /usr/local/lib/python3.10/dist-packages (from matplotlib) (9.4.0)\n",
            "Requirement already satisfied: pyparsing>=2.3.1 in /usr/local/lib/python3.10/dist-packages (from matplotlib) (3.1.2)\n",
            "Requirement already satisfied: python-dateutil>=2.7 in /usr/local/lib/python3.10/dist-packages (from matplotlib) (2.8.2)\n",
            "Requirement already satisfied: six>=1.5 in /usr/local/lib/python3.10/dist-packages (from python-dateutil>=2.7->matplotlib) (1.16.0)\n"
          ]
        }
      ]
    },
    {
      "cell_type": "code",
      "source": [
        "# import library --------------------------------------------------------------\n",
        "from rdkit import Chem\n",
        "import networkx as nx\n",
        "import matplotlib.pyplot as plt\n",
        "\n",
        "# define the smiles string and covert it into a molecule sturcture ------------\n",
        "caffeine_smiles = 'CN1C=NC2=C1C(=O)N(C(=O)N2C)C'\n",
        "caffeine_mol = Chem.MolFromSmiles(caffeine_smiles)\n",
        "Draw.MolToImage(caffeine_mol)\n"
      ],
      "metadata": {
        "id": "AlDwlGX0EZGH",
        "outputId": "59e93229-6566-4ab6-8660-cf5eebacc1f3",
        "colab": {
          "base_uri": "https://localhost:8080/",
          "height": 317
        }
      },
      "execution_count": null,
      "outputs": [
        {
          "output_type": "execute_result",
          "data": {
            "text/plain": [
              "<PIL.PngImagePlugin.PngImageFile image mode=RGB size=300x300>"
            ],
            "image/png": "[encoded data removed]"
          },
          "metadata": {},
          "execution_count": 12
        }
      ]
    },
    {
      "cell_type": "code",
      "source": [
        "# define the function for coverting rdkit object to networkx object -----------\n",
        "def mol_to_nx(mol):\n",
        "    G = nx.Graph()\n",
        "\n",
        "    for atom in mol.GetAtoms():\n",
        "        G.add_node(atom.GetIdx(),\n",
        "                   atomic_num=atom.GetAtomicNum(),\n",
        "                   is_aromatic=atom.GetIsAromatic(),\n",
        "                   atom_symbol=atom.GetSymbol())\n",
        "\n",
        "    for bond in mol.GetBonds():\n",
        "        G.add_edge(bond.GetBeginAtomIdx(),\n",
        "                   bond.GetEndAtomIdx(),\n",
        "                   bond_type=bond.GetBondType())\n",
        "\n",
        "    return G\n",
        "\n"
      ],
      "metadata": {
        "id": "mr4wwq_zEtMM"
      },
      "execution_count": null,
      "outputs": []
    },
    {
      "cell_type": "code",
      "source": [
        "# conver rdkit object to networkx object --------------------------------------\n",
        "caffeine_nx = mol_to_nx(caffeine_mol)\n",
        "\n",
        "caffeine_atom = nx.get_node_attributes(caffeine_nx, 'atom_symbol')\n",
        "\n",
        "color_map = {'C': 'cyan',\n",
        "             'O': 'orange',\n",
        "             'N': 'magenta'}\n",
        "\n",
        "caffeine_colors = []\n",
        "for idx in caffeine_nx.nodes():\n",
        "    if (caffeine_nx.nodes[idx]['atom_symbol'] in color_map):\n",
        "        caffeine_colors.append(color_map[caffeine_nx.nodes[idx]['atom_symbol']])\n",
        "    else:\n",
        "        caffeine_colors.append('gray')\n",
        "\n",
        "nx.draw(caffeine_nx,\n",
        "        labels=caffeine_atom,\n",
        "        with_labels = True,\n",
        "        node_color=caffeine_colors,\n",
        "        node_size=800)\n",
        "\n",
        "plt.show()"
      ],
      "metadata": {
        "id": "FzU3fW--ExVE",
        "outputId": "f539814c-15c6-424d-cbf1-1b54032423ae",
        "colab": {
          "base_uri": "https://localhost:8080/",
          "height": 516
        }
      },
      "execution_count": null,
      "outputs": [
        {
          "output_type": "display_data",
          "data": {
            "text/plain": [
              "<Figure size 640x480 with 1 Axes>"
            ],
            "image/png": "[encoded data removed]"
          },
          "metadata": {}
        }
      ]
    },
    {
      "cell_type": "markdown",
      "source": [
        "### 3-dimensional data\n",
        "\n",
        "3D chemical data offers numerous advantages over 2D data, especially in contexts where spatial information is critical.\n",
        "\n",
        "**Advantages**\n",
        "\n",
        "* Accurate Representation of Molecular Geometry:\n",
        "* Stereochemistry\n",
        "* Conformational Analysis\n",
        "* Visualization\n",
        "\n",
        "**Disadvantages**\n",
        "\n",
        "* Computational Resource Requirements\n",
        "* Data Accuracy and Quality\n",
        "* Limited Availability\n",
        "* Overemphasis on static structures\n",
        "\n",
        "Common models used to incorporate these 3D structures are GNNs and 3D convolutional networks.\n"
      ],
      "metadata": {
        "id": "vpTdA1YBYzLh"
      }
    },
    {
      "cell_type": "markdown",
      "source": [
        "## Sequential data types\n",
        "\n",
        "In addition to 2-D and 3-D data types, molecules can also be represented as text! Since molecules have no obvious grammar to their structures, chemical languages have been developed with their own rules to account for different chemical information such as atom types, bonds, rings, and charges.\n",
        "\n",
        "## Simplified molecular-input line-entry system (SMILES)\n",
        "\n",
        "SMILES (Simplified molecular-input line-entry system) is a line notation method to represent molecules as well as reactions. It is one of the most common method to represent molecules because of its simplicity and readability to the human eye.\n",
        "\n",
        "Examples:\n",
        "\n",
        "Propane: CCC\n",
        "\n",
        "Butane:  CCCC\n",
        "\n",
        "Ethene:  C=C"
      ],
      "metadata": {
        "id": "sZPCI17Mle_p"
      }
    },
    {
      "cell_type": "markdown",
      "source": [
        "### Atoms\n",
        "\n",
        "All non-Hydrogen atoms are represented by their atomic symbols. Any unfulfilled valency of an atom is assumed to be Hydrogen. For example, writing a simple C means that it’s actually a CH4 (Methane) and not an elemental Carbon. Similarly, N is NH3 (Ammonia) and O is H2O (Water).\n",
        "\n",
        "To represent elemental atoms, a [ ] (Square bracket) notation is used. For example, [S] is elemental Sulfur. In case you want to explicitly add the Hydrogens to a SMILES string, the square bracket can be used here as well. For example, Methane and Ethane can be written as [CH4] and [CH3][CH3] respectively.\n",
        "\n",
        "### Bonds\n",
        "\n",
        "Single, double, and triple bonds are represented by the symbols -, =, and #, respectively. Same as Hydrogens, single bonds are often omitted for simplicity. Adjacent atoms are assumed to be connected by a single or aromatic bond.\n",
        "\n",
        "There can be multiple ways to represent a molecule in the SMILES string. For example, all the following notations are correct for Ethane: CC, C-C, [CH3]-[CH3], [CH3]-C\n",
        "\n",
        "![smiles_intro](https://github.com/architvasan/MichiganTutorialMolecularData/blob/main/images/SMILES_intro.png?raw=1)\n",
        "\n",
        "### Charged molecules\n",
        "\n",
        "In case of charged atoms or molecules, the square bracket notation is used. The positive charge is represented by a + sign and a negative charge by - sign.\n",
        "\n",
        "![smiles_charged](https://github.com/architvasan/MichiganTutorialMolecularData/blob/main/images/SMILES_charge.png?raw=1)\n",
        "\n",
        "### Branched molecules\n",
        "\n",
        "Parentheses are used to create a branch in the SMILES string.\n",
        "\n",
        "![smiles_branched](https://github.com/architvasan/MichiganTutorialMolecularData/blob/main/images/SMILES_branch.png?raw=1)\n",
        "\n",
        "### Cyclic (ring) structures\n",
        "\n",
        "Ring structures are written by breaking each ring at an arbitrary point to make an acyclic structure and adding numerical ring closure labels to show connectivity between non-adjacent atoms.\n",
        "\n",
        "If there are two rings: we break one bond each from both the rings and assign separate numbers to each involved atom.\n",
        "\n",
        "![smiles_rings](https://github.com/architvasan/MichiganTutorialMolecularData/blob/main/images/SMILES_rings.png?raw=1)\n",
        "\n",
        "### Aromatic structures\n",
        "\n",
        "A preferred way to represent them: aromatic atoms are represented by lowercase letters. For example, aromatic Carbon by c, Nitrogen by n, Boron by b, and so on.\n",
        "\n",
        "Example: benzene\n",
        "\n",
        "Benzene can be written as c1ccccc1. Here, adjacent atoms are not assumed to be connected by a single bond but rather the lowercase letters tells us that this is a aromatic ring signifying alternate single and double bonds.\n",
        "\n",
        "![smiles_aromatics](https://github.com/architvasan/MichiganTutorialMolecularData/blob/main/images/SMILES_aromatics.png?raw=1)\n",
        "\n",
        "### Disconnected structures\n",
        "\n",
        "Ions in the ionic molecules are not connected by a covalent bond with each other. Disconnected compounds are written as individual structures separated by a . (period). For example, Sodium Hydroxide in its ionized form will be written as [Na+].[OH-].\n",
        "\n",
        "![smiles_disconnected](https://github.com/architvasan/MichiganTutorialMolecularData/blob/main/images/SMILES_disconnected.png?raw=1)\n"
      ],
      "metadata": {
        "id": "_Cvehf4UmuSO"
      }
    },
    {
      "cell_type": "code",
      "source": [
        "!pip install pubchempy"
      ],
      "metadata": {
        "id": "1nW_JmhADSEK",
        "outputId": "bcd77381-0a4d-4bc1-dc4d-20d08644f868",
        "colab": {
          "base_uri": "https://localhost:8080/"
        }
      },
      "execution_count": null,
      "outputs": [
        {
          "output_type": "stream",
          "name": "stdout",
          "text": [
            "Collecting pubchempy\n",
            "  Downloading PubChemPy-1.0.4.tar.gz (29 kB)\n",
            "  Preparing metadata (setup.py) ... \u001b[?25l\u001b[?25hdone\n",
            "Building wheels for collected packages: pubchempy\n",
            "  Building wheel for pubchempy (setup.py) ... \u001b[?25l\u001b[?25hdone\n",
            "  Created wheel for pubchempy: filename=PubChemPy-1.0.4-py3-none-any.whl size=13820 sha256=d18cd886145a734f3aa3503f3441b0727a2387bda51fadf84c9f1199785abb89\n",
            "  Stored in directory: /root/.cache/pip/wheels/90/7c/45/18a0671e3c3316966ef7ed9ad2b3f3300a7e41d3421a44e799\n",
            "Successfully built pubchempy\n",
            "Installing collected packages: pubchempy\n",
            "Successfully installed pubchempy-1.0.4\n"
          ]
        }
      ]
    },
    {
      "cell_type": "code",
      "source": [
        "import pubchempy as pcp\n",
        "results = pcp.get_compounds('Glucose', 'name')\n",
        "for compound in results:\n",
        "  print(compound.isomeric_smiles)\n",
        "  mol = Chem.MolFromSmiles(compound.isomeric_smiles)\n",
        "Draw.MolToImage(mol)\n"
      ],
      "metadata": {
        "id": "jXC58At84W28",
        "outputId": "7fad89a3-245e-4bea-96b1-ab58a5f17136",
        "colab": {
          "base_uri": "https://localhost:8080/",
          "height": 334
        }
      },
      "execution_count": null,
      "outputs": [
        {
          "output_type": "stream",
          "name": "stdout",
          "text": [
            "C([C@@H]1[C@H]([C@@H]([C@H](C(O1)O)O)O)O)O\n"
          ]
        },
        {
          "output_type": "execute_result",
          "data": {
            "text/plain": [
              "<PIL.PngImagePlugin.PngImageFile image mode=RGB size=300x300>"
            ],
            "image/png": "[encoded data removed]"
          },
          "metadata": {},
          "execution_count": 17
        }
      ]
    },
    {
      "cell_type": "markdown",
      "source": [
        "## SELFIES\n",
        "A limitation of SMILES strings is that they have a very complex grammar. When used in machine learning models, many of the results can be invalid.\n",
        "\n",
        "An alternative system used is the Self-referencing embedded strings (SELFIES) which is claimed to be 100% robust. Even entirely random SELFIES strings represent correct molecular graphs; this makes this language ideal for a generative machine learning model. The SELFIES grammar can be thought of as a elementary computer program that is transformed into a molecular graph with a simple compiler.\n",
        "\n",
        "SELFIES are designed with two general ideas:\n",
        "\n",
        "First, the non-local features in SMILES (rings and branches) are localized. SELFIES represents rings and branches by their length. After a ring and branch symbol, the subsequent symbol is interpreted as a number that stands for a length. This circumvents many syntactical issues with non-local features.\n",
        "\n",
        "Second, physical constraints are encoded by different states of the formal grammar. For example,a molecule of the form C=C=C is possible (three carbons connected via double bonds). However, F=O=F is not possible, because fluorine can only form one bond (not two) and oxygen can only form two bonds (not four as in this example). In SELFIES, after compiling a symbol into a part of the graph, the derivation state changes. This can be considered as a minimal memory that ensures the fulfilment of physical constraints.\n",
        "\n",
        "![smiles_disconnected](https://github.com/architvasan/MichiganTutorialMolecularData/blob/main/images/SELFIES.png?raw=1)"
      ],
      "metadata": {
        "id": "z67GA_tFt72e"
      }
    },
    {
      "cell_type": "code",
      "source": [
        "! pip install selfies"
      ],
      "metadata": {
        "id": "9TsMEhrzOVUe",
        "outputId": "624cad6d-b115-4d6d-fc4c-9ee0b04772b6",
        "colab": {
          "base_uri": "https://localhost:8080/"
        }
      },
      "execution_count": null,
      "outputs": [
        {
          "output_type": "stream",
          "name": "stdout",
          "text": [
            "Collecting selfies\n",
            "  Downloading selfies-2.1.1-py3-none-any.whl (35 kB)\n",
            "Installing collected packages: selfies\n",
            "Successfully installed selfies-2.1.1\n"
          ]
        }
      ]
    },
    {
      "cell_type": "code",
      "source": [
        "import selfies as sf\n",
        "\n",
        "benzene = \"c1ccccc1\"\n",
        "\n",
        "# SMILES -> SELFIES -> SMILES translation\n",
        "try:\n",
        "    benzene_sf = sf.encoder(benzene)  # [C][=C][C][=C][C][=C][Ring1][=Branch1]\n",
        "    benzene_smi = sf.decoder(benzene_sf)  # C1=CC=CC=C1\n",
        "except sf.EncoderError:\n",
        "    pass  # sf.encoder error!\n",
        "except sf.DecoderError:\n",
        "    pass  # sf.decoder error!\n",
        "\n",
        "len_benzene = sf.len_selfies(benzene_sf)  # 8\n",
        "\n",
        "symbols_benzene = list(sf.split_selfies(benzene_sf))\n",
        "# ['[C]', '[=C]', '[C]', '[=C]', '[C]', '[=C]', '[Ring1]', '[=Branch1]']"
      ],
      "metadata": {
        "id": "OP3zZtfO47Yn"
      },
      "execution_count": null,
      "outputs": []
    },
    {
      "cell_type": "code",
      "source": [
        "print(benzene_sf)"
      ],
      "metadata": {
        "id": "m9EueajRFjsn",
        "outputId": "73581658-58db-4df4-9ae7-d0f6b6bd428c",
        "colab": {
          "base_uri": "https://localhost:8080/"
        }
      },
      "execution_count": null,
      "outputs": [
        {
          "output_type": "stream",
          "name": "stdout",
          "text": [
            "[C][=C][C][=C][C][=C][Ring1][=Branch1]\n"
          ]
        }
      ]
    },
    {
      "cell_type": "code",
      "source": [
        "print(benzene_smi)"
      ],
      "metadata": {
        "id": "0evt9v2VFmSe",
        "outputId": "303f7216-e920-41ec-8ce9-3c5ac3bc64ba",
        "colab": {
          "base_uri": "https://localhost:8080/"
        }
      },
      "execution_count": null,
      "outputs": [
        {
          "output_type": "stream",
          "name": "stdout",
          "text": [
            "C1=CC=CC=C1\n"
          ]
        }
      ]
    },
    {
      "cell_type": "code",
      "source": [
        "print(symbols_benzene)"
      ],
      "metadata": {
        "id": "soc68Wu7FbDl",
        "outputId": "ff3a34a0-7d98-4f78-a3b9-9030903b0678",
        "colab": {
          "base_uri": "https://localhost:8080/"
        }
      },
      "execution_count": null,
      "outputs": [
        {
          "output_type": "stream",
          "name": "stdout",
          "text": [
            "['[C]', '[=C]', '[C]', '[=C]', '[C]', '[=C]', '[Ring1]', '[=Branch1]']\n"
          ]
        }
      ]
    },
    {
      "cell_type": "code",
      "source": [],
      "metadata": {
        "id": "BjBZNyyiFfiJ"
      },
      "execution_count": null,
      "outputs": []
    }
  ]
}