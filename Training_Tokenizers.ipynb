{
  "nbformat": 4,
  "nbformat_minor": 0,
  "metadata": {
    "colab": {
      "provenance": []
    },
    "kernelspec": {
      "name": "python3",
      "display_name": "Python 3"
    },
    "language_info": {
      "name": "python"
    }
  },
  "cells": [
    {
      "cell_type": "code",
      "execution_count": 1,
      "metadata": {
        "colab": {
          "base_uri": "https://localhost:8080/"
        },
        "id": "kE2t_8OQqmIv",
        "outputId": "35796169-8fbf-4ed0-c57f-7e509113e2c0",
        "collapsed": true
      },
      "outputs": [
        {
          "output_type": "stream",
          "name": "stdout",
          "text": [
            "Requirement already satisfied: tokenizers in /usr/local/lib/python3.10/dist-packages (0.19.1)\n",
            "Requirement already satisfied: datasets in /usr/local/lib/python3.10/dist-packages (2.20.0)\n",
            "Requirement already satisfied: huggingface-hub<1.0,>=0.16.4 in /usr/local/lib/python3.10/dist-packages (from tokenizers) (0.23.4)\n",
            "Requirement already satisfied: filelock in /usr/local/lib/python3.10/dist-packages (from datasets) (3.15.4)\n",
            "Requirement already satisfied: numpy>=1.17 in /usr/local/lib/python3.10/dist-packages (from datasets) (1.25.2)\n",
            "Requirement already satisfied: pyarrow>=15.0.0 in /usr/local/lib/python3.10/dist-packages (from datasets) (16.1.0)\n",
            "Requirement already satisfied: pyarrow-hotfix in /usr/local/lib/python3.10/dist-packages (from datasets) (0.6)\n",
            "Requirement already satisfied: dill<0.3.9,>=0.3.0 in /usr/local/lib/python3.10/dist-packages (from datasets) (0.3.8)\n",
            "Requirement already satisfied: pandas in /usr/local/lib/python3.10/dist-packages (from datasets) (2.0.3)\n",
            "Requirement already satisfied: requests>=2.32.2 in /usr/local/lib/python3.10/dist-packages (from datasets) (2.32.3)\n",
            "Requirement already satisfied: tqdm>=4.66.3 in /usr/local/lib/python3.10/dist-packages (from datasets) (4.66.4)\n",
            "Requirement already satisfied: xxhash in /usr/local/lib/python3.10/dist-packages (from datasets) (3.4.1)\n",
            "Requirement already satisfied: multiprocess in /usr/local/lib/python3.10/dist-packages (from datasets) (0.70.16)\n",
            "Requirement already satisfied: fsspec[http]<=2024.5.0,>=2023.1.0 in /usr/local/lib/python3.10/dist-packages (from datasets) (2023.6.0)\n",
            "Requirement already satisfied: aiohttp in /usr/local/lib/python3.10/dist-packages (from datasets) (3.9.5)\n",
            "Requirement already satisfied: packaging in /usr/local/lib/python3.10/dist-packages (from datasets) (24.1)\n",
            "Requirement already satisfied: pyyaml>=5.1 in /usr/local/lib/python3.10/dist-packages (from datasets) (6.0.1)\n",
            "Requirement already satisfied: aiosignal>=1.1.2 in /usr/local/lib/python3.10/dist-packages (from aiohttp->datasets) (1.3.1)\n",
            "Requirement already satisfied: attrs>=17.3.0 in /usr/local/lib/python3.10/dist-packages (from aiohttp->datasets) (23.2.0)\n",
            "Requirement already satisfied: frozenlist>=1.1.1 in /usr/local/lib/python3.10/dist-packages (from aiohttp->datasets) (1.4.1)\n",
            "Requirement already satisfied: multidict<7.0,>=4.5 in /usr/local/lib/python3.10/dist-packages (from aiohttp->datasets) (6.0.5)\n",
            "Requirement already satisfied: yarl<2.0,>=1.0 in /usr/local/lib/python3.10/dist-packages (from aiohttp->datasets) (1.9.4)\n",
            "Requirement already satisfied: async-timeout<5.0,>=4.0 in /usr/local/lib/python3.10/dist-packages (from aiohttp->datasets) (4.0.3)\n",
            "Requirement already satisfied: typing-extensions>=3.7.4.3 in /usr/local/lib/python3.10/dist-packages (from huggingface-hub<1.0,>=0.16.4->tokenizers) (4.12.2)\n",
            "Requirement already satisfied: charset-normalizer<4,>=2 in /usr/local/lib/python3.10/dist-packages (from requests>=2.32.2->datasets) (3.3.2)\n",
            "Requirement already satisfied: idna<4,>=2.5 in /usr/local/lib/python3.10/dist-packages (from requests>=2.32.2->datasets) (3.7)\n",
            "Requirement already satisfied: urllib3<3,>=1.21.1 in /usr/local/lib/python3.10/dist-packages (from requests>=2.32.2->datasets) (2.0.7)\n",
            "Requirement already satisfied: certifi>=2017.4.17 in /usr/local/lib/python3.10/dist-packages (from requests>=2.32.2->datasets) (2024.6.2)\n",
            "Requirement already satisfied: python-dateutil>=2.8.2 in /usr/local/lib/python3.10/dist-packages (from pandas->datasets) (2.8.2)\n",
            "Requirement already satisfied: pytz>=2020.1 in /usr/local/lib/python3.10/dist-packages (from pandas->datasets) (2023.4)\n",
            "Requirement already satisfied: tzdata>=2022.1 in /usr/local/lib/python3.10/dist-packages (from pandas->datasets) (2024.1)\n",
            "Requirement already satisfied: six>=1.5 in /usr/local/lib/python3.10/dist-packages (from python-dateutil>=2.8.2->pandas->datasets) (1.16.0)\n"
          ]
        }
      ],
      "source": [
        "# Install Dependencies and Datasets\n",
        "!pip install tokenizers datasets"
      ]
    },
    {
      "cell_type": "code",
      "source": [
        "from datasets import load_dataset\n",
        "\n",
        "ds = load_dataset(\"Salesforce/wikitext\", \"wikitext-2-raw-v1\")"
      ],
      "metadata": {
        "id": "HWRUc96eAqIf",
        "colab": {
          "base_uri": "https://localhost:8080/"
        },
        "outputId": "4d8b9c61-6b43-4ce0-fa97-577d4cab0830"
      },
      "execution_count": 2,
      "outputs": [
        {
          "output_type": "stream",
          "name": "stderr",
          "text": [
            "/usr/local/lib/python3.10/dist-packages/huggingface_hub/utils/_token.py:89: UserWarning: \n",
            "The secret `HF_TOKEN` does not exist in your Colab secrets.\n",
            "To authenticate with the Hugging Face Hub, create a token in your settings tab (https://huggingface.co/settings/tokens), set it as secret in your Google Colab and restart your session.\n",
            "You will be able to reuse this secret in all of your notebooks.\n",
            "Please note that authentication is recommended but still optional to access public models or datasets.\n",
            "  warnings.warn(\n"
          ]
        }
      ]
    },
    {
      "cell_type": "markdown",
      "source": [
        "# Breaking down Tokenization"
      ],
      "metadata": {
        "id": "SxY-YAzSWkBF"
      }
    },
    {
      "cell_type": "code",
      "source": [
        "from tokenizers import Tokenizer"
      ],
      "metadata": {
        "id": "St4nq-XV_zTr"
      },
      "execution_count": 3,
      "outputs": []
    },
    {
      "cell_type": "code",
      "source": [
        "# We're going to walk this bit of text through tokenization, feel free to change it to something fun\n",
        "sample_text = \"2024 SciFM Summer School! 🤖\""
      ],
      "metadata": {
        "id": "g9Cjkd-YZBQa"
      },
      "execution_count": 4,
      "outputs": []
    },
    {
      "cell_type": "code",
      "source": [
        "from tokenizers import normalizers\n",
        "norm = normalizers.Sequence([\n",
        "    normalizers.Strip(),\n",
        "    normalizers.Lowercase(),\n",
        "])\n",
        "sample_normed = norm.normalize_str(sample_text)\n",
        "sample_normed"
      ],
      "metadata": {
        "colab": {
          "base_uri": "https://localhost:8080/",
          "height": 35
        },
        "id": "MZjo-o6YU0eS",
        "outputId": "a23bb943-d267-4813-a350-f9cb3476c856"
      },
      "execution_count": 5,
      "outputs": [
        {
          "output_type": "execute_result",
          "data": {
            "text/plain": [
              "'2024 scifm summer school! 🤖'"
            ],
            "application/vnd.google.colaboratory.intrinsic+json": {
              "type": "string"
            }
          },
          "metadata": {},
          "execution_count": 5
        }
      ]
    },
    {
      "cell_type": "code",
      "source": [
        "from tokenizers import pre_tokenizers\n",
        "pretok = pre_tokenizers.Sequence([\n",
        "    pre_tokenizers.Punctuation(),\n",
        "    pre_tokenizers.Whitespace(),\n",
        "])\n",
        "sample_pretok = pretok.pre_tokenize_str(sample_normed)\n",
        "sample_pretok"
      ],
      "metadata": {
        "colab": {
          "base_uri": "https://localhost:8080/"
        },
        "id": "gAQYD3vsYmB6",
        "outputId": "b9a706e3-b150-4055-d27e-8dc6a6e26cd8"
      },
      "execution_count": 6,
      "outputs": [
        {
          "output_type": "execute_result",
          "data": {
            "text/plain": [
              "[('2024', (0, 4)),\n",
              " ('scifm', (5, 10)),\n",
              " ('summer', (11, 17)),\n",
              " ('school', (18, 24)),\n",
              " ('!', (24, 25)),\n",
              " ('🤖', (26, 27))]"
            ]
          },
          "metadata": {},
          "execution_count": 6
        }
      ]
    },
    {
      "cell_type": "code",
      "source": [
        "# Let's start with the basics: Modeling Language as a sequence of Words\n",
        "from tokenizers.models import WordLevel\n",
        "from tokenizers.pre_tokenizers import Whitespace\n",
        "from tokenizers.trainers import WordLevelTrainer\n",
        "\n",
        "tok_wl = Tokenizer(WordLevel(unk_token=\"[UNK]\"))\n",
        "tok_wl.normalizer = norm\n",
        "tok_wl.pre_tokenizer = pretok\n",
        "trainer = WordLevelTrainer(special_tokens=[\"[UNK]\"])  # Don't forget to add the Unknown token!\n",
        "tok_wl.train_from_iterator(ds[\"train\"][\"text\"], trainer)"
      ],
      "metadata": {
        "id": "rdct9cjgAjzX"
      },
      "execution_count": 7,
      "outputs": []
    },
    {
      "cell_type": "code",
      "source": [
        "\"\"\" Helper function for comparing different tokenizers \"\"\"\n",
        "def demo_tokenizer(tok, text=sample_text):\n",
        "    out = tok.encode(text)\n",
        "    print(f\"Input: `{text}`\")\n",
        "    print(f\"Tokens: {out.tokens}\")\n",
        "    print(f\"Tokens IDs: {out.ids}\")\n",
        "    print(f\"Vocab Size: {tok.get_vocab_size()}\")\n"
      ],
      "metadata": {
        "id": "s8MW_DzJNSMl"
      },
      "execution_count": 8,
      "outputs": []
    },
    {
      "cell_type": "code",
      "source": [
        "demo_tokenizer(tok_wl)"
      ],
      "metadata": {
        "colab": {
          "base_uri": "https://localhost:8080/"
        },
        "id": "wNtBh6SlcUi4",
        "outputId": "14ad7dad-9691-48e5-ed5b-4de29fdb1b6c"
      },
      "execution_count": 9,
      "outputs": [
        {
          "output_type": "stream",
          "name": "stdout",
          "text": [
            "Input: `2024 SciFM Summer School! 🤖`\n",
            "Tokens: ['[UNK]', '[UNK]', 'summer', 'school', '!', '[UNK]']\n",
            "Tokens IDs: [0, 0, 698, 260, 388, 0]\n",
            "Vocab Size: 30000\n"
          ]
        }
      ]
    },
    {
      "cell_type": "code",
      "source": [
        "# Some models need extra tokens to deliminate different parts of the input\n",
        "from tokenizers import processors\n",
        "from copy import deepcopy\n",
        "\n",
        "tok_wl_post = deepcopy(tok_wl)\n",
        "tok_wl_post.add_special_tokens([\"[SEP]\", \"[CLS]\"])\n",
        "tok_wl_post.post_processor = processors.BertProcessing(\n",
        "    sep=(\"[SEP]\", tok_wl_post.token_to_id(\"[SEP]\")),\n",
        "    cls=(\"[CLS]\", tok_wl_post.token_to_id(\"[CLS]\")),\n",
        ")\n",
        "print(f\"Tokenizer a single sentence: {tok_wl_post.encode(sample_text).tokens}\")\n",
        "print(f\"A Pair of sentences: {tok_wl_post.encode('Why did the Foundation Model visit the University of Michigan?', sample_text).tokens}\")"
      ],
      "metadata": {
        "colab": {
          "base_uri": "https://localhost:8080/"
        },
        "id": "UIK6gEWycqAh",
        "outputId": "0d439d94-7704-4511-f72a-41ef12327a87"
      },
      "execution_count": 10,
      "outputs": [
        {
          "output_type": "stream",
          "name": "stdout",
          "text": [
            "Tokenizer a single sentence: ['[CLS]', '[UNK]', '[UNK]', 'summer', 'school', '!', '[UNK]', '[SEP]']\n",
            "A Pair of sentences: ['[CLS]', 'why', 'did', 'the', 'foundation', 'model', 'visit', 'the', 'university', 'of', 'michigan', '?', '[SEP]', '[UNK]', '[UNK]', 'summer', 'school', '!', '[UNK]', '[SEP]']\n"
          ]
        }
      ]
    },
    {
      "cell_type": "markdown",
      "source": [
        "# Splitting Words into Subwords"
      ],
      "metadata": {
        "id": "la9u-eKFYmcq"
      }
    },
    {
      "cell_type": "markdown",
      "source": [
        "## Byte-Pair Encoding"
      ],
      "metadata": {
        "id": "o1GY1ZVcLQ7H"
      }
    },
    {
      "cell_type": "code",
      "source": [
        "from tokenizers.models import BPE\n",
        "from tokenizers.trainers import BpeTrainer\n",
        "\n",
        "tok_bpe = Tokenizer(BPE(unk_token=\"[UNK]\"))\n",
        "tok_bpe.normalizer = norm\n",
        "tok_bpe.pre_tokenizer = pretok\n",
        "trainer = BpeTrainer(\n",
        "    vocab_size=tok_wl.get_vocab_size(), # Not a great choice, but helpful for comparison\n",
        "    special_tokens=[\"[UNK]\"],\n",
        "    show_progress=True\n",
        ")\n",
        "tok_bpe.train_from_iterator(\n",
        "    ds[\"train\"][\"text\"],\n",
        "    trainer,\n",
        "    length=len(ds[\"train\"])\n",
        ")"
      ],
      "metadata": {
        "id": "mtbJbO3ke84X"
      },
      "execution_count": 11,
      "outputs": []
    },
    {
      "cell_type": "code",
      "source": [
        "demo_tokenizer(tok_bpe)"
      ],
      "metadata": {
        "colab": {
          "base_uri": "https://localhost:8080/"
        },
        "id": "AomUmNvlMMuC",
        "outputId": "2b189580-5db2-43af-8b3e-b43bb16bea76"
      },
      "execution_count": 12,
      "outputs": [
        {
          "output_type": "stream",
          "name": "stdout",
          "text": [
            "Input: `2024 SciFM Summer School! 🤖`\n",
            "Tokens: ['20', '24', 'sc', 'if', 'm', 'summer', 'school', '!', '[UNK]']\n",
            "Tokens IDs: [1127, 2045, 1154, 1042, 51, 2917, 1724, 1, 0]\n",
            "Vocab Size: 30000\n"
          ]
        }
      ]
    },
    {
      "cell_type": "markdown",
      "source": [
        "## WordPiece"
      ],
      "metadata": {
        "id": "0fuSSzuwOEvG"
      }
    },
    {
      "cell_type": "code",
      "source": [
        "from tokenizers.models import WordPiece\n",
        "from tokenizers.trainers import WordPieceTrainer\n",
        "\n",
        "tok_wp = Tokenizer(WordPiece(unk_token=\"[UNK]\"))\n",
        "tok_wp.normalizer = norm\n",
        "tok_wp.pre_tokenizer = pretok\n",
        "trainer = WordPieceTrainer(\n",
        "    vocab_size=tok_wl.get_vocab_size(), # Not a great choice, but helpful for comparison\n",
        "    special_tokens=[\"[UNK]\"],\n",
        "    show_progress=True,\n",
        ")\n",
        "tok_wp.train_from_iterator(\n",
        "    ds[\"train\"][\"text\"],\n",
        "    trainer,\n",
        "    length=len(ds[\"train\"])\n",
        ")"
      ],
      "metadata": {
        "id": "XwZcfVLcODao"
      },
      "execution_count": 13,
      "outputs": []
    },
    {
      "cell_type": "code",
      "source": [
        "demo_tokenizer(tok_wp)"
      ],
      "metadata": {
        "id": "sW7HHU-HOrmj",
        "colab": {
          "base_uri": "https://localhost:8080/"
        },
        "outputId": "e294d6b4-6fb3-42a6-9e06-8bdd81f6fab5"
      },
      "execution_count": 14,
      "outputs": [
        {
          "output_type": "stream",
          "name": "stdout",
          "text": [
            "Input: `2024 SciFM Summer School! 🤖`\n",
            "Tokens: ['202', '##4', 'sci', '##f', '##m', 'summer', 'school', '!', '[UNK]']\n",
            "Tokens IDs: [13237, 964, 26525, 956, 958, 3779, 2443, 1, 0]\n",
            "Vocab Size: 30000\n"
          ]
        }
      ]
    },
    {
      "cell_type": "markdown",
      "source": [
        "## Unigram"
      ],
      "metadata": {
        "id": "g-5Oofb2tMHU"
      }
    },
    {
      "cell_type": "code",
      "source": [
        "from tokenizers.models import Unigram\n",
        "from tokenizers.trainers import UnigramTrainer\n",
        "\n",
        "tok_uni = Tokenizer(Unigram())\n",
        "tok_uni.normalizer = norm\n",
        "tok_uni.pre_tokenizer = pretok\n",
        "trainer = UnigramTrainer(\n",
        "    vocab_size=tok_wl.get_vocab_size(), # Not a great choice, but helpful for comparison\n",
        "    unk_token=\"[UNK]\",\n",
        "    show_progress=True,\n",
        ")\n",
        "tok_uni.train_from_iterator(\n",
        "    ds[\"train\"][\"text\"],\n",
        "    trainer,\n",
        "    length=len(ds[\"train\"])\n",
        ")"
      ],
      "metadata": {
        "id": "4mPTRLgKtLrn"
      },
      "execution_count": 15,
      "outputs": []
    },
    {
      "cell_type": "code",
      "source": [
        "demo_tokenizer(tok_uni)"
      ],
      "metadata": {
        "id": "rWkbPS8XtY_g",
        "outputId": "5f1fda05-c5c9-47ce-a66a-e5017652d730",
        "colab": {
          "base_uri": "https://localhost:8080/"
        }
      },
      "execution_count": 16,
      "outputs": [
        {
          "output_type": "stream",
          "name": "stdout",
          "text": [
            "Input: `2024 SciFM Summer School! 🤖`\n",
            "Tokens: ['20', '24', 's', 'c', 'i', 'f', 'm', 'summer', 'school', '!', '🤖']\n",
            "Tokens IDs: [194, 526, 1, 40, 14, 15, 34, 768, 238, 495, 0]\n",
            "Vocab Size: 30000\n"
          ]
        }
      ]
    },
    {
      "cell_type": "code",
      "source": [
        "tok_uni.get_vocab()[\"[UNK]\"]"
      ],
      "metadata": {
        "id": "zHrywHs2uYno",
        "outputId": "ed565814-74a2-4e15-e376-1db8414ed579",
        "colab": {
          "base_uri": "https://localhost:8080/"
        }
      },
      "execution_count": 17,
      "outputs": [
        {
          "output_type": "execute_result",
          "data": {
            "text/plain": [
              "0"
            ]
          },
          "metadata": {},
          "execution_count": 17
        }
      ]
    },
    {
      "cell_type": "markdown",
      "source": [
        "# Comparing Tokenizers"
      ],
      "metadata": {
        "id": "-WS0THbYf_nt"
      }
    },
    {
      "cell_type": "code",
      "source": [
        "trained = {\n",
        "    \"WordLevel\": tok_wl,\n",
        "    \"BPE\": tok_bpe,\n",
        "    \"WordPiece\": tok_wp,\n",
        "    \"Unigram\": tok_uni,\n",
        "}"
      ],
      "metadata": {
        "id": "AJB8InLVgCNb"
      },
      "execution_count": 18,
      "outputs": []
    },
    {
      "cell_type": "code",
      "source": [
        "import matplotlib.pyplot as plt\n",
        "from numpy import mean, median\n",
        "\n",
        "for name, tok in trained.items():\n",
        "    fertility = [len(tok.encode(x[\"text\"]).tokens) for x in ds[\"validation\"]]\n",
        "    label = f\"{name} - avg. {mean(fertility):.2f}, median {median(fertility):.1f}\"\n",
        "    plt.hist(fertility, bins=\"scott\", alpha=0.5, label=label, density=True, log=True, histtype='step')\n",
        "\n",
        "plt.xlabel('Tokenizer Fertility')\n",
        "plt.ylabel('Density')\n",
        "plt.legend()\n",
        "plt.show()"
      ],
      "metadata": {
        "colab": {
          "base_uri": "https://localhost:8080/",
          "height": 449
        },
        "id": "2p_k23OfhICl",
        "outputId": "1bae7c32-e1c5-45db-890a-d6aa892a9cd0"
      },
      "execution_count": 19,
      "outputs": [
        {
          "output_type": "display_data",
          "data": {
            "text/plain": [
              "<Figure size 640x480 with 1 Axes>"
            ],
            "image/png": "[encoded data removed]"
          },
          "metadata": {}
        }
      ]
    },
    {
      "cell_type": "code",
      "source": [
        "for name, tok in trained.items():\n",
        "    fertility = [len(x[\"text\"]) / len(tok.encode(x[\"text\"]).tokens) for x in ds[\"validation\"] if len(x[\"text\"]) > 0]\n",
        "    label = f\"{name} - avg. {mean(fertility):.2f}, median {median(fertility):.1f}\"\n",
        "    plt.hist(fertility, bins=\"scott\", alpha=0.5, label=label, density=True, log=True, histtype='step')\n",
        "\n",
        "plt.xlabel('Tokens per Codepoint')\n",
        "plt.ylabel('Density')\n",
        "plt.legend()\n",
        "plt.show()"
      ],
      "metadata": {
        "colab": {
          "base_uri": "https://localhost:8080/",
          "height": 449
        },
        "id": "6nqPqppyhztX",
        "outputId": "fd337967-9c52-487c-e2cd-b96abc4cf3ee"
      },
      "execution_count": 20,
      "outputs": [
        {
          "output_type": "display_data",
          "data": {
            "text/plain": [
              "<Figure size 640x480 with 1 Axes>"
            ],
            "image/png": "[encoded data removed]"
          },
          "metadata": {}
        }
      ]
    },
    {
      "cell_type": "code",
      "source": [
        "num_unknown = dict()\n",
        "for name, tok in trained.items():\n",
        "    unk_token_id = tok.get_vocab()[\"[UNK]\"]\n",
        "    num_unknown[name] = sum([ unk_token_id in tok.encode(x[\"text\"]).ids for x in ds[\"validation\"]])\n",
        "\n",
        "num_unknown"
      ],
      "metadata": {
        "colab": {
          "base_uri": "https://localhost:8080/"
        },
        "id": "dniJTVCUlKft",
        "outputId": "84d9547b-556d-4629-c95a-2d94a29fb9bc"
      },
      "execution_count": 21,
      "outputs": [
        {
          "output_type": "execute_result",
          "data": {
            "text/plain": [
              "{'WordLevel': 1724, 'BPE': 30, 'WordPiece': 30, 'Unigram': 30}"
            ]
          },
          "metadata": {},
          "execution_count": 21
        }
      ]
    },
    {
      "cell_type": "code",
      "source": [],
      "metadata": {
        "id": "8xok5EvjuM0h"
      },
      "execution_count": 21,
      "outputs": []
    }
  ]
}